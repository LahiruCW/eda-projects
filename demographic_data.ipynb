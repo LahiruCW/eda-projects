{
  "nbformat": 4,
  "nbformat_minor": 0,
  "metadata": {
    "colab": {
      "name": "demographic data.ipynb",
      "provenance": [],
      "toc_visible": true,
      "authorship_tag": "ABX9TyPIWKGfVgjLduUwU5lsaC4f"
    },
    "kernelspec": {
      "name": "python3",
      "display_name": "Python 3"
    },
    "language_info": {
      "name": "python"
    }
  },
  "cells": [
    {
      "cell_type": "markdown",
      "metadata": {
        "id": "oMXeGkmUXnls"
      },
      "source": [
        "### Mount the drive\n",
        "Mount the google drive storage to the Jupyter Notebook."
      ]
    },
    {
      "cell_type": "code",
      "metadata": {
        "colab": {
          "base_uri": "https://localhost:8080/"
        },
        "id": "LJ6QcBzIXMIu",
        "outputId": "7e6819ff-060d-4952-f159-605c57678818"
      },
      "source": [
        "from google.colab import drive\n",
        "drive.mount('/content/drive')"
      ],
      "execution_count": null,
      "outputs": [
        {
          "output_type": "stream",
          "text": [
            "Mounted at /content/drive\n"
          ],
          "name": "stdout"
        }
      ]
    },
    {
      "cell_type": "markdown",
      "metadata": {
        "id": "8U9JK_IAYAp_"
      },
      "source": [
        "### Introduction\n",
        "The given dataset contains the demographic data that that was extracted from the [1994 Census database](https://www.census.gov/en.html).\n",
        "\n",
        "This dataset contains the demographic data acording to the the following columns:\n",
        "**age, workclass, fnlwgt, education, education-num, martial-status, occupation, relationship, race,sex, capital-gain, capital-loss, hours-per-week, native-country, salary.**\n",
        "\n",
        "Our aim is to answer the following questions and do an exploratory data analysis.  \n",
        "1. How many people of each race are represented in this dataset? This should be a Pandas series with race names as the index labels. (`race` column)\n",
        "2. What is the average age of men?\n",
        "3. What is the percentage of people who have a Bachelor's degree?\n",
        "4. What percentage of people with advanced education (`Bachelors`, `Masters`, or `Doctorate`) make more than 50K?\n",
        "5. What percentage of people without advanced education make more than 50K?\n",
        "6. What is the minimum number of hours a person works per week?\n",
        "7. What percentage of the people who work the minimum number of hours per week have a salary of more than 50K?\n",
        "8. What country has the highest percentage of people that earn >50K and what is that percentage?\n",
        "9. Identify the most popular occupation for those who earn >50K in India.\n",
        "\n",
        "### Dataset Source\n",
        "\n",
        "Dua, D. and Graff, C. (2019). UCI Machine Learning Repository [http://archive.ics.uci.edu/ml]. Irvine, CA: University of California, School of Information and Computer Science."
      ]
    },
    {
      "cell_type": "markdown",
      "metadata": {
        "id": "A28NSMFgcako"
      },
      "source": [
        "The following code needs to load the necessasary packages to the Jupyter Notebook."
      ]
    },
    {
      "cell_type": "code",
      "metadata": {
        "id": "zm2HEwmkcjDG",
        "colab": {
          "base_uri": "https://localhost:8080/"
        },
        "outputId": "4cd3292e-e2d3-4c64-e84a-13bf0d629036"
      },
      "source": [
        "import pandas as pd\n",
        "pd.plotting.register_matplotlib_converters()\n",
        "import matplotlib.pyplot as plt\n",
        "%matplotlib inline\n",
        "import seaborn as sns\n",
        "print(\"Setup Complete\")"
      ],
      "execution_count": null,
      "outputs": [
        {
          "output_type": "stream",
          "text": [
            "Setup Complete\n"
          ],
          "name": "stdout"
        }
      ]
    },
    {
      "cell_type": "markdown",
      "metadata": {
        "id": "iPZnbrE3dmWR"
      },
      "source": [
        "Let's read the data set and get a sample of data to see the shape of the data."
      ]
    },
    {
      "cell_type": "code",
      "metadata": {
        "colab": {
          "base_uri": "https://localhost:8080/",
          "height": 343
        },
        "id": "4yBWpuWafhdz",
        "outputId": "0e1c3582-9844-4247-a8e3-c71a857903a2"
      },
      "source": [
        "adult_data = pd.read_csv(\"/content/drive/MyDrive/Data-Analysis-Python/Course Project Experiments/adult.data.csv\")\n",
        "adult_data.head(5)"
      ],
      "execution_count": null,
      "outputs": [
        {
          "output_type": "execute_result",
          "data": {
            "text/html": [
              "<div>\n",
              "<style scoped>\n",
              "    .dataframe tbody tr th:only-of-type {\n",
              "        vertical-align: middle;\n",
              "    }\n",
              "\n",
              "    .dataframe tbody tr th {\n",
              "        vertical-align: top;\n",
              "    }\n",
              "\n",
              "    .dataframe thead th {\n",
              "        text-align: right;\n",
              "    }\n",
              "</style>\n",
              "<table border=\"1\" class=\"dataframe\">\n",
              "  <thead>\n",
              "    <tr style=\"text-align: right;\">\n",
              "      <th></th>\n",
              "      <th>age</th>\n",
              "      <th>workclass</th>\n",
              "      <th>fnlwgt</th>\n",
              "      <th>education</th>\n",
              "      <th>education-num</th>\n",
              "      <th>marital-status</th>\n",
              "      <th>occupation</th>\n",
              "      <th>relationship</th>\n",
              "      <th>race</th>\n",
              "      <th>sex</th>\n",
              "      <th>capital-gain</th>\n",
              "      <th>capital-loss</th>\n",
              "      <th>hours-per-week</th>\n",
              "      <th>native-country</th>\n",
              "      <th>salary</th>\n",
              "    </tr>\n",
              "  </thead>\n",
              "  <tbody>\n",
              "    <tr>\n",
              "      <th>0</th>\n",
              "      <td>39</td>\n",
              "      <td>State-gov</td>\n",
              "      <td>77516</td>\n",
              "      <td>Bachelors</td>\n",
              "      <td>13</td>\n",
              "      <td>Never-married</td>\n",
              "      <td>Adm-clerical</td>\n",
              "      <td>Not-in-family</td>\n",
              "      <td>White</td>\n",
              "      <td>Male</td>\n",
              "      <td>2174</td>\n",
              "      <td>0</td>\n",
              "      <td>40</td>\n",
              "      <td>United-States</td>\n",
              "      <td>&lt;=50K</td>\n",
              "    </tr>\n",
              "    <tr>\n",
              "      <th>1</th>\n",
              "      <td>50</td>\n",
              "      <td>Self-emp-not-inc</td>\n",
              "      <td>83311</td>\n",
              "      <td>Bachelors</td>\n",
              "      <td>13</td>\n",
              "      <td>Married-civ-spouse</td>\n",
              "      <td>Exec-managerial</td>\n",
              "      <td>Husband</td>\n",
              "      <td>White</td>\n",
              "      <td>Male</td>\n",
              "      <td>0</td>\n",
              "      <td>0</td>\n",
              "      <td>13</td>\n",
              "      <td>United-States</td>\n",
              "      <td>&lt;=50K</td>\n",
              "    </tr>\n",
              "    <tr>\n",
              "      <th>2</th>\n",
              "      <td>38</td>\n",
              "      <td>Private</td>\n",
              "      <td>215646</td>\n",
              "      <td>HS-grad</td>\n",
              "      <td>9</td>\n",
              "      <td>Divorced</td>\n",
              "      <td>Handlers-cleaners</td>\n",
              "      <td>Not-in-family</td>\n",
              "      <td>White</td>\n",
              "      <td>Male</td>\n",
              "      <td>0</td>\n",
              "      <td>0</td>\n",
              "      <td>40</td>\n",
              "      <td>United-States</td>\n",
              "      <td>&lt;=50K</td>\n",
              "    </tr>\n",
              "    <tr>\n",
              "      <th>3</th>\n",
              "      <td>53</td>\n",
              "      <td>Private</td>\n",
              "      <td>234721</td>\n",
              "      <td>11th</td>\n",
              "      <td>7</td>\n",
              "      <td>Married-civ-spouse</td>\n",
              "      <td>Handlers-cleaners</td>\n",
              "      <td>Husband</td>\n",
              "      <td>Black</td>\n",
              "      <td>Male</td>\n",
              "      <td>0</td>\n",
              "      <td>0</td>\n",
              "      <td>40</td>\n",
              "      <td>United-States</td>\n",
              "      <td>&lt;=50K</td>\n",
              "    </tr>\n",
              "    <tr>\n",
              "      <th>4</th>\n",
              "      <td>28</td>\n",
              "      <td>Private</td>\n",
              "      <td>338409</td>\n",
              "      <td>Bachelors</td>\n",
              "      <td>13</td>\n",
              "      <td>Married-civ-spouse</td>\n",
              "      <td>Prof-specialty</td>\n",
              "      <td>Wife</td>\n",
              "      <td>Black</td>\n",
              "      <td>Female</td>\n",
              "      <td>0</td>\n",
              "      <td>0</td>\n",
              "      <td>40</td>\n",
              "      <td>Cuba</td>\n",
              "      <td>&lt;=50K</td>\n",
              "    </tr>\n",
              "  </tbody>\n",
              "</table>\n",
              "</div>"
            ],
            "text/plain": [
              "   age         workclass  fnlwgt  ... hours-per-week  native-country salary\n",
              "0   39         State-gov   77516  ...             40   United-States  <=50K\n",
              "1   50  Self-emp-not-inc   83311  ...             13   United-States  <=50K\n",
              "2   38           Private  215646  ...             40   United-States  <=50K\n",
              "3   53           Private  234721  ...             40   United-States  <=50K\n",
              "4   28           Private  338409  ...             40            Cuba  <=50K\n",
              "\n",
              "[5 rows x 15 columns]"
            ]
          },
          "metadata": {
            "tags": []
          },
          "execution_count": 3
        }
      ]
    },
    {
      "cell_type": "markdown",
      "metadata": {
        "id": "FNlpCRaNf-F1"
      },
      "source": [
        "First we need to figure out the shape of our dataset. Output result format as below. **(Number of raws, Number of columns)**"
      ]
    },
    {
      "cell_type": "code",
      "metadata": {
        "colab": {
          "base_uri": "https://localhost:8080/"
        },
        "id": "Ojozso338ddi",
        "outputId": "887fbd2d-28a7-415e-f3c5-9b10607ccf98"
      },
      "source": [
        "adult_data.shape"
      ],
      "execution_count": null,
      "outputs": [
        {
          "output_type": "execute_result",
          "data": {
            "text/plain": [
              "(32561, 15)"
            ]
          },
          "metadata": {
            "tags": []
          },
          "execution_count": 4
        }
      ]
    },
    {
      "cell_type": "markdown",
      "metadata": {
        "id": "NvH1KL7f8j2u"
      },
      "source": [
        "We can explore the dataset info as belows."
      ]
    },
    {
      "cell_type": "code",
      "metadata": {
        "colab": {
          "base_uri": "https://localhost:8080/"
        },
        "id": "Ya19G7tk9g1Y",
        "outputId": "f83d134c-788f-4c37-a48a-bfa30e544844"
      },
      "source": [
        "adult_data.info()"
      ],
      "execution_count": null,
      "outputs": [
        {
          "output_type": "stream",
          "text": [
            "<class 'pandas.core.frame.DataFrame'>\n",
            "RangeIndex: 32561 entries, 0 to 32560\n",
            "Data columns (total 15 columns):\n",
            " #   Column          Non-Null Count  Dtype \n",
            "---  ------          --------------  ----- \n",
            " 0   age             32561 non-null  int64 \n",
            " 1   workclass       32561 non-null  object\n",
            " 2   fnlwgt          32561 non-null  int64 \n",
            " 3   education       32561 non-null  object\n",
            " 4   education-num   32561 non-null  int64 \n",
            " 5   marital-status  32561 non-null  object\n",
            " 6   occupation      32561 non-null  object\n",
            " 7   relationship    32561 non-null  object\n",
            " 8   race            32561 non-null  object\n",
            " 9   sex             32561 non-null  object\n",
            " 10  capital-gain    32561 non-null  int64 \n",
            " 11  capital-loss    32561 non-null  int64 \n",
            " 12  hours-per-week  32561 non-null  int64 \n",
            " 13  native-country  32561 non-null  object\n",
            " 14  salary          32561 non-null  object\n",
            "dtypes: int64(6), object(9)\n",
            "memory usage: 3.7+ MB\n"
          ],
          "name": "stdout"
        }
      ]
    },
    {
      "cell_type": "markdown",
      "metadata": {
        "id": "BIFKofIj90Q7"
      },
      "source": [
        "### Analyze the data set."
      ]
    },
    {
      "cell_type": "markdown",
      "metadata": {
        "id": "jlcxgJ54-Eks"
      },
      "source": [
        "1. Let's figure out how many people of each race are represented in this dataset."
      ]
    },
    {
      "cell_type": "code",
      "metadata": {
        "colab": {
          "base_uri": "https://localhost:8080/"
        },
        "id": "I_1XLkmYAYaM",
        "outputId": "31e5a87f-c9b2-430d-f398-6ec976ebe83e"
      },
      "source": [
        "adult_data.race.value_counts()"
      ],
      "execution_count": null,
      "outputs": [
        {
          "output_type": "execute_result",
          "data": {
            "text/plain": [
              "White                 27816\n",
              "Black                  3124\n",
              "Asian-Pac-Islander     1039\n",
              "Amer-Indian-Eskimo      311\n",
              "Other                   271\n",
              "Name: race, dtype: int64"
            ]
          },
          "metadata": {
            "tags": []
          },
          "execution_count": 6
        }
      ]
    },
    {
      "cell_type": "markdown",
      "metadata": {
        "id": "46kngv49I5xd"
      },
      "source": [
        "We can analyze the `sex` column to identify how many Males and Females are represented in this dataset."
      ]
    },
    {
      "cell_type": "code",
      "metadata": {
        "colab": {
          "base_uri": "https://localhost:8080/"
        },
        "id": "kw0TeOzhBwjq",
        "outputId": "ea64a118-00ee-4f11-db3e-545e0ac29847"
      },
      "source": [
        "adult_data[\"sex\"].value_counts()"
      ],
      "execution_count": null,
      "outputs": [
        {
          "output_type": "execute_result",
          "data": {
            "text/plain": [
              "Male      21790\n",
              "Female    10771\n",
              "Name: sex, dtype: int64"
            ]
          },
          "metadata": {
            "tags": []
          },
          "execution_count": 7
        }
      ]
    },
    {
      "cell_type": "markdown",
      "metadata": {
        "id": "gxRH-crLJOf0"
      },
      "source": [
        "2. The average age of Men can be calculated as follows."
      ]
    },
    {
      "cell_type": "code",
      "metadata": {
        "colab": {
          "base_uri": "https://localhost:8080/"
        },
        "id": "QzKP2-98C9jP",
        "outputId": "0570eb7b-66c9-47c8-b91e-b9f2e43b442c"
      },
      "source": [
        "group = adult_data.groupby(['sex']).age.mean()\n",
        "average_age_men = round(group['Male'])\n",
        "average_age_men"
      ],
      "execution_count": null,
      "outputs": [
        {
          "output_type": "execute_result",
          "data": {
            "text/plain": [
              "39"
            ]
          },
          "metadata": {
            "tags": []
          },
          "execution_count": 8
        }
      ]
    },
    {
      "cell_type": "markdown",
      "metadata": {
        "id": "olQLFb2RNp5_"
      },
      "source": [
        "In below, we can see how many people of each education qualification are represented in this dataset."
      ]
    },
    {
      "cell_type": "code",
      "metadata": {
        "id": "XI0Hy1cmH371",
        "colab": {
          "base_uri": "https://localhost:8080/"
        },
        "outputId": "528a4059-d0ed-4178-e975-f7d3d62794ae"
      },
      "source": [
        "adult_data.education.value_counts()\n"
      ],
      "execution_count": null,
      "outputs": [
        {
          "output_type": "execute_result",
          "data": {
            "text/plain": [
              "HS-grad         10501\n",
              "Some-college     7291\n",
              "Bachelors        5355\n",
              "Masters          1723\n",
              "Assoc-voc        1382\n",
              "11th             1175\n",
              "Assoc-acdm       1067\n",
              "10th              933\n",
              "7th-8th           646\n",
              "Prof-school       576\n",
              "9th               514\n",
              "12th              433\n",
              "Doctorate         413\n",
              "5th-6th           333\n",
              "1st-4th           168\n",
              "Preschool          51\n",
              "Name: education, dtype: int64"
            ]
          },
          "metadata": {
            "tags": []
          },
          "execution_count": 14
        }
      ]
    },
    {
      "cell_type": "markdown",
      "metadata": {
        "id": "qW71QoSePKgU"
      },
      "source": [
        "3. Let's define the percentage of people who have a Bacherlor's degree."
      ]
    },
    {
      "cell_type": "markdown",
      "metadata": {
        "id": "g8tLkHqMaq46"
      },
      "source": [
        "a. Total number of people who have a Bacherlor's degree."
      ]
    },
    {
      "cell_type": "code",
      "metadata": {
        "id": "RGUEdKPMPfRP"
      },
      "source": [
        "bachelors = adult_data.education.value_counts()\n",
        "num = bachelors.loc[pd.Index(['Bachelors'])][0]"
      ],
      "execution_count": null,
      "outputs": []
    },
    {
      "cell_type": "markdown",
      "metadata": {
        "id": "fTBYdXnla5j_"
      },
      "source": [
        "b. Total number of people."
      ]
    },
    {
      "cell_type": "code",
      "metadata": {
        "id": "29pMUI-7Z1P-"
      },
      "source": [
        "total = adult_data.shape[0]"
      ],
      "execution_count": null,
      "outputs": []
    },
    {
      "cell_type": "markdown",
      "metadata": {
        "id": "Mvnvq9zzbF4-"
      },
      "source": [
        "c. Calculating the percentage of people who have a Bachelor's Degree."
      ]
    },
    {
      "cell_type": "code",
      "metadata": {
        "colab": {
          "base_uri": "https://localhost:8080/"
        },
        "id": "1aKAwLafaaNA",
        "outputId": "cd101db6-32e8-488d-d2fb-3fedb4c987b4"
      },
      "source": [
        "(num/total)*100"
      ],
      "execution_count": null,
      "outputs": [
        {
          "output_type": "execute_result",
          "data": {
            "text/plain": [
              "16.44605509658794"
            ]
          },
          "metadata": {
            "tags": []
          },
          "execution_count": 47
        }
      ]
    },
    {
      "cell_type": "markdown",
      "metadata": {
        "id": "aJvmzK64c63k"
      },
      "source": [
        "4. Finding the percentage of people with advanced education (Bachelors, Masters, or Doctorate) make more than 50K"
      ]
    },
    {
      "cell_type": "code",
      "metadata": {
        "colab": {
          "base_uri": "https://localhost:8080/",
          "height": 299
        },
        "id": "PH6OFD4tdM5O",
        "outputId": "9d4ff2cb-b84f-4db9-cb87-882667ba4cfe"
      },
      "source": [
        "edu = adult_data."
      ],
      "execution_count": null,
      "outputs": [
        {
          "output_type": "error",
          "ename": "AttributeError",
          "evalue": "ignored",
          "traceback": [
            "\u001b[0;31m---------------------------------------------------------------------------\u001b[0m",
            "\u001b[0;31mAttributeError\u001b[0m                            Traceback (most recent call last)",
            "\u001b[0;32m<ipython-input-58-7e5ea4d59edb>\u001b[0m in \u001b[0;36m<module>\u001b[0;34m()\u001b[0m\n\u001b[1;32m      1\u001b[0m \u001b[0mreview\u001b[0m \u001b[0;34m=\u001b[0m \u001b[0madult_data\u001b[0m\u001b[0;34m.\u001b[0m\u001b[0mgroupby\u001b[0m\u001b[0;34m(\u001b[0m\u001b[0;34m[\u001b[0m\u001b[0;34m'education'\u001b[0m\u001b[0;34m,\u001b[0m\u001b[0;34m'salary'\u001b[0m\u001b[0;34m]\u001b[0m\u001b[0;34m)\u001b[0m\u001b[0;34m\u001b[0m\u001b[0;34m\u001b[0m\u001b[0m\n\u001b[0;32m----> 2\u001b[0;31m \u001b[0mreview\u001b[0m\u001b[0;34m.\u001b[0m\u001b[0mloc\u001b[0m\u001b[0;34m[\u001b[0m\u001b[0mreview\u001b[0m\u001b[0;34m.\u001b[0m\u001b[0meducation\u001b[0m\u001b[0;34m.\u001b[0m\u001b[0misin\u001b[0m\u001b[0;34m(\u001b[0m\u001b[0;34m[\u001b[0m\u001b[0;34m'Bachelors'\u001b[0m\u001b[0;34m,\u001b[0m\u001b[0;34m'Masters'\u001b[0m\u001b[0;34m,\u001b[0m\u001b[0;34m'Doctorate'\u001b[0m\u001b[0;34m]\u001b[0m\u001b[0;34m)\u001b[0m\u001b[0;34m]\u001b[0m\u001b[0;34m\u001b[0m\u001b[0;34m\u001b[0m\u001b[0m\n\u001b[0m",
            "\u001b[0;32m/usr/local/lib/python3.7/dist-packages/pandas/core/groupby/groupby.py\u001b[0m in \u001b[0;36m__getattr__\u001b[0;34m(self, attr)\u001b[0m\n\u001b[1;32m    702\u001b[0m \u001b[0;34m\u001b[0m\u001b[0m\n\u001b[1;32m    703\u001b[0m         raise AttributeError(\n\u001b[0;32m--> 704\u001b[0;31m             \u001b[0;34mf\"'{type(self).__name__}' object has no attribute '{attr}'\"\u001b[0m\u001b[0;34m\u001b[0m\u001b[0;34m\u001b[0m\u001b[0m\n\u001b[0m\u001b[1;32m    705\u001b[0m         )\n\u001b[1;32m    706\u001b[0m \u001b[0;34m\u001b[0m\u001b[0m\n",
            "\u001b[0;31mAttributeError\u001b[0m: 'DataFrameGroupBy' object has no attribute 'loc'"
          ]
        }
      ]
    },
    {
      "cell_type": "markdown",
      "metadata": {
        "id": "n-G7ATuRbwgv"
      },
      "source": [
        "6. Finding the minimum number of hours a person works per week."
      ]
    },
    {
      "cell_type": "code",
      "metadata": {
        "colab": {
          "base_uri": "https://localhost:8080/"
        },
        "id": "pl6lf7n_cDoJ",
        "outputId": "f8cd6938-9ac3-499a-a1a2-86fa2ee350d6"
      },
      "source": [
        "adult_data['hours-per-week'].min()"
      ],
      "execution_count": null,
      "outputs": [
        {
          "output_type": "execute_result",
          "data": {
            "text/plain": [
              "1"
            ]
          },
          "metadata": {
            "tags": []
          },
          "execution_count": 49
        }
      ]
    },
    {
      "cell_type": "code",
      "metadata": {
        "colab": {
          "base_uri": "https://localhost:8080/"
        },
        "id": "pXOH8Gadd-Pn",
        "outputId": "4ccea000-66f3-4ad4-f55d-0bf57492fc61"
      },
      "source": [
        "adult_data.salary.dtype"
      ],
      "execution_count": null,
      "outputs": [
        {
          "output_type": "execute_result",
          "data": {
            "text/plain": [
              "dtype('O')"
            ]
          },
          "metadata": {
            "tags": []
          },
          "execution_count": 52
        }
      ]
    }
  ]
}